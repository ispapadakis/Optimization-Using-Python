{
 "cells": [
  {
   "cell_type": "markdown",
   "metadata": {},
   "source": [
    "# Nonlinear Programming Using scipy.optimize"
   ]
  },
  {
   "cell_type": "code",
   "execution_count": 1,
   "metadata": {},
   "outputs": [],
   "source": [
    "import matplotlib.pyplot as plt\n",
    "import numpy as np\n",
    "import pandas as pd"
   ]
  },
  {
   "cell_type": "code",
   "execution_count": 2,
   "metadata": {},
   "outputs": [],
   "source": [
    "from scipy.optimize import minimize, LinearConstraint"
   ]
  },
  {
   "cell_type": "markdown",
   "metadata": {},
   "source": [
    "## Problem Structure\n",
    "- Nonlinear Objective\n",
    "- 2 Nonliear Constraints"
   ]
  },
  {
   "cell_type": "code",
   "execution_count": 3,
   "metadata": {},
   "outputs": [],
   "source": [
    "def objective(x):\n",
    "    return x[0] * x[3] * ( x[0] + x[1] + x[2] ) + x[2]\n",
    "\n",
    "def constraint1(x, lower_lim=25.0):\n",
    "    # Inequality Constraint: Prod(x) >= lower_lim\n",
    "    return np.prod(x) - lower_lim\n",
    "\n",
    "def constraint2(x, upper_lim=40.0):\n",
    "    # Equality Constraint\n",
    "    return upper_lim - np.sum(x**2)"
   ]
  },
  {
   "cell_type": "markdown",
   "metadata": {},
   "source": [
    "## Initial Solution\n",
    "\n",
    "Guessed at"
   ]
  },
  {
   "cell_type": "code",
   "execution_count": 4,
   "metadata": {},
   "outputs": [
    {
     "name": "stdout",
     "output_type": "stream",
     "text": [
      "Initial SSE Objective:   20.0\n",
      "Initial SSE Constraint1: 5.0\n",
      "Initial SSE Constraint2: -4.25\n",
      "\n",
      "Initial Solution: 1.000, 4.000, 5.000, 1.500\n"
     ]
    }
   ],
   "source": [
    "# initial guesses\n",
    "x0 = np.array([1.0, 4.0, 5.0, 1.5])\n",
    "\n",
    "# show initial objective\n",
    "print('Initial SSE Objective:   ' + str(objective(x0)))\n",
    "print('Initial SSE Constraint1: ' + str(constraint1(x0)))\n",
    "print('Initial SSE Constraint2: ' + str(constraint2(x0)))\n",
    "\n",
    "# print solution\n",
    "print('\\nInitial Solution:', \", \".join(\"%.3f\" % v for v in x0))"
   ]
  },
  {
   "cell_type": "markdown",
   "metadata": {},
   "source": [
    "## Calling Minimize Function\n",
    "- Define Decision Variable Bounds\n",
    "- Define Constraints\n",
    "    - Constraint 1: Inequality Constraint (needs to be non-negative)\n",
    "    - Constraint 2: Equality Constraint"
   ]
  },
  {
   "cell_type": "code",
   "execution_count": 5,
   "metadata": {},
   "outputs": [],
   "source": [
    "b = (1.0,5.0)\n",
    "bnds = (b, b, b, b)"
   ]
  },
  {
   "cell_type": "code",
   "execution_count": 6,
   "metadata": {},
   "outputs": [],
   "source": [
    "con1 = {'type': 'ineq', 'fun': constraint1}\n",
    "con2 = {'type': 'eq', 'fun': constraint2}\n",
    "cons = ([con1,con2])"
   ]
  },
  {
   "cell_type": "markdown",
   "metadata": {},
   "source": [
    "Time to complete optimization for 5 separate starting points"
   ]
  },
  {
   "cell_type": "code",
   "execution_count": 7,
   "metadata": {},
   "outputs": [
    {
     "name": "stdout",
     "output_type": "stream",
     "text": [
      "Optimization terminated successfully.    (Exit mode 0)\n",
      "            Current function value: 17.014017289156243\n",
      "            Iterations: 14\n",
      "            Function evaluations: 84\n",
      "            Gradient evaluations: 14\n",
      "Optimization terminated successfully.    (Exit mode 0)\n",
      "            Current function value: 17.014017289156072\n",
      "            Iterations: 7\n",
      "            Function evaluations: 42\n",
      "            Gradient evaluations: 7\n",
      "Optimization terminated successfully.    (Exit mode 0)\n",
      "            Current function value: 17.014017289156\n",
      "            Iterations: 9\n",
      "            Function evaluations: 56\n",
      "            Gradient evaluations: 8\n",
      "Optimization terminated successfully.    (Exit mode 0)\n",
      "            Current function value: 27.14642819948225\n",
      "            Iterations: 14\n",
      "            Function evaluations: 115\n",
      "            Gradient evaluations: 14\n",
      "Optimization terminated successfully.    (Exit mode 0)\n",
      "            Current function value: 17.014017289155724\n",
      "            Iterations: 22\n",
      "            Function evaluations: 161\n",
      "            Gradient evaluations: 18\n",
      "Wall time: 63 ms\n"
     ]
    }
   ],
   "source": [
    "%%time\n",
    "np.random.seed(20)\n",
    "for jitter in np.random.normal(0,5,(5,4)):\n",
    "    solution = minimize(objective, x0+jitter, method='SLSQP',\n",
    "                        bounds=bnds, constraints=cons,  tol=1e-12, options={'disp': True})"
   ]
  },
  {
   "cell_type": "code",
   "execution_count": 8,
   "metadata": {},
   "outputs": [
    {
     "name": "stdout",
     "output_type": "stream",
     "text": [
      "Exit Code = 0\n",
      "Solution Success: True\n",
      "Solution Message: Optimization terminated successfully.\n",
      "\n",
      "Final SSE Objective:   17.014\n",
      "Final SSE Constraint1: -7.85e-13\n",
      "Final SSE Constraint2: -8.81e-13\n",
      "\n",
      "\n",
      "Final Solution: 1.000, 4.743, 3.821, 1.379\n"
     ]
    }
   ],
   "source": [
    "# show final objective (using last set of results)\n",
    "\n",
    "print(\"Exit Code = %d\" % solution.status)\n",
    "print(\"Solution Success: %s\" % solution.success)\n",
    "print(\"Solution Message: %s\\n\" % solution.message)\n",
    "\n",
    "print('Final SSE Objective:   %.3f' % solution.fun)\n",
    "print('Final SSE Constraint1: %.3g' % constraint1(solution.x))\n",
    "print('Final SSE Constraint2: %.3g' % constraint2(solution.x))\n",
    "print(\"\\n\")\n",
    "\n",
    "print('Final Solution:', \", \".join(\"%.3f\" % v for v in solution.x))"
   ]
  },
  {
   "cell_type": "markdown",
   "metadata": {},
   "source": [
    "### Marginal Effects Around Optimum"
   ]
  },
  {
   "cell_type": "code",
   "execution_count": 9,
   "metadata": {},
   "outputs": [],
   "source": [
    "prob_fun = [{'type': 'obj', 'fun':objective}] + cons"
   ]
  },
  {
   "cell_type": "code",
   "execution_count": 10,
   "metadata": {},
   "outputs": [
    {
     "data": {
      "image/png": "[encoded data removed]",
      "text/plain": [
       "<Figure size 576x864 with 3 Axes>"
      ]
     },
     "metadata": {
      "needs_background": "light"
     },
     "output_type": "display_data"
    }
   ],
   "source": [
    "fig, axs = plt.subplots(3, 1, figsize=(8,12))\n",
    "n = 100\n",
    "\n",
    "for i, b in enumerate(bnds):\n",
    "    x_ = np.linspace(*b,n)\n",
    "    x1 = np.broadcast_to(solution.x,(n,len(solution.x))).copy()\n",
    "    x1[:,i] = x_\n",
    "    lbl = r\"$x_%d$\" % i\n",
    "    dx = x_[1:] - x_[:-1]\n",
    "    for j,fn in enumerate(prob_fun):\n",
    "        pfeval = np.apply_along_axis(fn['fun'],1,x1)\n",
    "        dy = pfeval[1:] - pfeval[:-1]\n",
    "        axs[j].plot(x_[:-1],dy/dx,label=lbl)\n",
    "        x0pos = np.argmin(np.abs(x_[:-1]-solution.x[i]))\n",
    "        axs[j].plot(x_[x0pos],(dy/dx)[x0pos],'d')\n",
    "\n",
    "for j,fn in enumerate(prob_fun):\n",
    "    ft = fn['fun'].__name__\n",
    "    axs[j].set_title(ft + \" Partial Derivatives at Optimum\")\n",
    "    axs[j].legend()\n",
    "    axs[j].grid()\n",
    "    \n",
    "plt.show()"
   ]
  },
  {
   "cell_type": "markdown",
   "metadata": {},
   "source": [
    "Consider strategies to minimize the objective:\n",
    "- Reduce $x_0$, but we are already at the lower bound.\n",
    "- Reduce $x_3$ and the objective by $~10 \\times dx_3$, but a ~30% smaller increase in $x_0$ is required to maintain the equality constraint (2). The net effect is ~0 as the objective is increased by $~15 \\times dx_0$. The same results are obtained if one counterbalances the decrease in $x_3$ by increases in $x_1$ or $x_2$."
   ]
  },
  {
   "cell_type": "markdown",
   "metadata": {},
   "source": [
    "## Naive Alternative: Evaluation at Random Points"
   ]
  },
  {
   "cell_type": "code",
   "execution_count": 11,
   "metadata": {},
   "outputs": [
    {
     "name": "stdout",
     "output_type": "stream",
     "text": [
      "Wall time: 111 ms\n"
     ]
    },
    {
     "data": {
      "text/plain": [
       "(4, 1000000)"
      ]
     },
     "execution_count": 11,
     "metadata": {},
     "output_type": "execute_result"
    }
   ],
   "source": [
    "%%time\n",
    "\n",
    "# Evaluation at Random Points Within Bounds\n",
    "np.random.seed(2020)\n",
    "xr = np.array([np.random.uniform(*b,int(1e6)) for b in bnds])\n",
    "xr.shape"
   ]
  },
  {
   "cell_type": "markdown",
   "metadata": {},
   "source": [
    "To optimize evaluation, follow this plan:\n",
    "\n",
    "- Evaluate Constraint 2 (Equality Constraint)\n",
    "- Evaluate Constraint 1\n",
    "- Evaluate Objective"
   ]
  },
  {
   "cell_type": "code",
   "execution_count": 12,
   "metadata": {},
   "outputs": [
    {
     "name": "stdout",
     "output_type": "stream",
     "text": [
      "Constraint 2 Feasible in 0.54% of Cases\n",
      "Wall time: 8.96 s\n"
     ]
    }
   ],
   "source": [
    "%%time\n",
    "\n",
    "rand_eval = np.abs(np.apply_along_axis(constraint2,0,xr)) < 0.1  # Equality Constraint\n",
    "\n",
    "c2ratio = np.mean(rand_eval)\n",
    "print(\"Constraint 2 Feasible in {:.2%} of Cases\".format(c2ratio))\n",
    "\n",
    "xr = xr[:,rand_eval]"
   ]
  },
  {
   "cell_type": "code",
   "execution_count": 13,
   "metadata": {},
   "outputs": [
    {
     "name": "stdout",
     "output_type": "stream",
     "text": [
      "Constraint 1 Feasible in 99.04% of Remaining Cases\n",
      "Both Constraints Feasible in 0.54% of Cases\n",
      "Wall time: 64 ms\n"
     ]
    }
   ],
   "source": [
    "%%time\n",
    "\n",
    "rand_eval = np.apply_along_axis(constraint1,0,xr) >= 0   # Inequality Constraint\n",
    "\n",
    "c1ratio = np.mean(rand_eval)\n",
    "print(\"Constraint 1 Feasible in {:.2%} of Remaining Cases\".format(c1ratio))\n",
    "print(\"Both Constraints Feasible in {:.2%} of Cases\".format(c1ratio*c2ratio))\n",
    "\n",
    "xr = xr[:,rand_eval]"
   ]
  },
  {
   "cell_type": "code",
   "execution_count": 14,
   "metadata": {},
   "outputs": [
    {
     "name": "stdout",
     "output_type": "stream",
     "text": [
      "Wall time: 38 ms\n"
     ]
    },
    {
     "data": {
      "text/plain": [
       "Text(0.5, 1.0, 'Objective Evaluated at Randomly Selected Feasible Points')"
      ]
     },
     "execution_count": 14,
     "metadata": {},
     "output_type": "execute_result"
    },
    {
     "data": {
      "image/png": "[encoded data removed]",
      "text/plain": [
       "<Figure size 432x288 with 1 Axes>"
      ]
     },
     "metadata": {
      "needs_background": "light"
     },
     "output_type": "display_data"
    }
   ],
   "source": [
    "%%time\n",
    "\n",
    "o = np.apply_along_axis(objective,0,xr)\n",
    "plt.plot(sorted(o))\n",
    "plt.grid()\n",
    "plt.title(\"Objective Evaluated at Randomly Selected Feasible Points\");"
   ]
  },
  {
   "cell_type": "code",
   "execution_count": 15,
   "metadata": {},
   "outputs": [],
   "source": [
    "xb = xr[:,np.argmin(o)]"
   ]
  },
  {
   "cell_type": "code",
   "execution_count": 17,
   "metadata": {},
   "outputs": [
    {
     "name": "stdout",
     "output_type": "stream",
     "text": [
      "Random Search SSE Objective:   17.783\n",
      "Random Search SSE Constraint1: 0.768\n",
      "Random Search SSE Constraint2: 0.0602\n",
      "\n",
      "Random Search Solution: 1.231, 4.864, 3.658, 1.176\n"
     ]
    }
   ],
   "source": [
    "# show final objective\n",
    "print('Random Search SSE Objective:   %.3f' % objective(xb))\n",
    "print('Random Search SSE Constraint1: %.3g' % constraint1(xb))\n",
    "print('Random Search SSE Constraint2: %.3g\\n' % constraint2(xb))\n",
    "\n",
    "# print solution\n",
    "print('Random Search Solution:', \", \".join(\"%.3f\" % v for v in xb))"
   ]
  },
  {
   "cell_type": "markdown",
   "metadata": {},
   "source": [
    "**This approach takes much longer and produces an inferior solution.**"
   ]
  },
  {
   "cell_type": "code",
   "execution_count": null,
   "metadata": {},
   "outputs": [],
   "source": []
  }
 ],
 "metadata": {
  "kernelspec": {
   "display_name": "Python 3",
   "language": "python",
   "name": "python3"
  },
  "language_info": {
   "codemirror_mode": {
    "name": "ipython",
    "version": 3
   },
   "file_extension": ".py",
   "mimetype": "text/x-python",
   "name": "python",
   "nbconvert_exporter": "python",
   "pygments_lexer": "ipython3",
   "version": "3.7.6"
  }
 },
 "nbformat": 4,
 "nbformat_minor": 2
}
