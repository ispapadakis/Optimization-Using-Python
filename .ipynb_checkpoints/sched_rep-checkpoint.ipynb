{
 "cells": [
  {
   "cell_type": "code",
   "execution_count": 1,
   "metadata": {},
   "outputs": [],
   "source": [
    "import numpy as np\n",
    "from copy import deepcopy"
   ]
  },
  {
   "cell_type": "code",
   "execution_count": 2,
   "metadata": {},
   "outputs": [],
   "source": [
    "class TestData():\n",
    "    def __init__(self, n_clients=7, distmax=12, maxoptions=5, seed=2023, minlen=3, maxlen=6, force={3:11}):\n",
    "        np.random.seed(seed)\n",
    "        self.n_clients = n_clients\n",
    "        self.workday = 8 * 2  # 30 min periods in workday\n",
    "        self.minlen = minlen\n",
    "        self.maxlen = maxlen\n",
    "        self.force = force\n",
    "        self.loc = np.random.randint(0,distmax,size=n_clients*2).reshape(n_clients,2)\n",
    "        locbase = (np.rint(self.loc.mean(0))).astype(int)\n",
    "        self.bdist = {}\n",
    "        for i in range(n_clients):\n",
    "            self.bdist[-1,i] = self.dist(self.loc[i],locbase) // 2\n",
    "            self.bdist[i,-1] = self.bdist[-1,i]\n",
    "            for j in range(i+1, n_clients):\n",
    "                self.bdist[i,j] = self.dist(self.loc[i],self.loc[j]) // 2\n",
    "                self.bdist[j,i] = self.bdist[i,j]\n",
    "        avail = []\n",
    "        for i in range(n_clients):\n",
    "            avail.append(sorted(set(np.random.randint(0,self.workday,size=maxoptions))))\n",
    "        self.ben = np.random.randint(1,10,size=n_clients)\n",
    "        self.slot = [[] for _ in range(self.workday)]\n",
    "        for i, lst in enumerate(avail):\n",
    "            for t in lst:\n",
    "                if i not in force:\n",
    "                    self.slot[t].append(i)\n",
    "        for i, t in force.items():\n",
    "            self.slot[t] = [i]\n",
    "\n",
    "    def setAdj(self):\n",
    "        \"Adjacency List Factory\"\n",
    "        def adjgen(tstart):\n",
    "            for t, lst in enumerate(self.slot[tstart:], start=tstart):\n",
    "                for x in lst:\n",
    "                    yield (t,x)\n",
    "            return\n",
    "        return adjgen\n",
    "\n",
    "    def show_dist(self):\n",
    "        bd = np.array(list(self.bdist.values()))\n",
    "        return np.unique(bd, return_counts=True)\n",
    "\n",
    "\n",
    "    def dist(self, a, b):\n",
    "        return abs(a[0]-b[0]) + abs(a[1]-b[1])\n",
    "\n",
    "    def params(self):\n",
    "        return {\n",
    "            'benefit': self.ben,\n",
    "            'distance': self.bdist,\n",
    "            'minlen':self.minlen,\n",
    "            'maxlen':self.maxlen,\n",
    "            'tmax':self.workday,\n",
    "            'force':self.force\n",
    "        }\n",
    "        "
   ]
  },
  {
   "cell_type": "code",
   "execution_count": 3,
   "metadata": {},
   "outputs": [],
   "source": [
    "# Enumerate\n",
    "\n",
    "class Sched:\n",
    "\n",
    "    def __init__(self, benefit, distance, minlen, maxlen, tmax, force):\n",
    "        self.tslots = dict()\n",
    "        self.benefit = benefit\n",
    "        self.distance = distance\n",
    "        self.minlen = minlen\n",
    "        self.maxlen = maxlen\n",
    "        self.force = force\n",
    "        self.value = 0\n",
    "        self.sdlen = 0\n",
    "\n",
    "    def can_add(self, t, member):\n",
    "        test = self.end != member # Not Adding Same Member\n",
    "        test = test and (self.t + self.distance[self.end, member] + 1 <= t) # Can Access\n",
    "        test = test and (not member in self.tslots) # Not Scheduled Already\n",
    "        test = test and (self.sdlen <= self.maxlen) # Within <maxlen> Length\n",
    "        return test\n",
    "    \n",
    "    def add(self, t, member):\n",
    "        self.t = t\n",
    "        self.end = member\n",
    "        self.tslots[member] = t\n",
    "        if member == -1:\n",
    "            return\n",
    "        self.value += self.benefit[member]\n",
    "        self.sdlen += 1\n",
    "\n",
    "    def is_allowed(self, bestvalue):\n",
    "        test = self.sdlen >= self.minlen\n",
    "        test = test and (self.value >= bestvalue)\n",
    "        test = test and all(x in self.tslots for x in self.force)\n",
    "        return test\n",
    "\n",
    "    def hour(self, tindex):\n",
    "        tstart = 9 * 60\n",
    "        t = tstart + tindex * 30\n",
    "        return \"{:02d}:{:02d}\".format(*divmod(t,60))\n",
    "\n",
    "    def name(self, i):\n",
    "        if i >= 0:\n",
    "            return \"client_{}\".format(i)\n",
    "        else:\n",
    "            return \"base\"\n",
    "\n",
    "    def show(self):\n",
    "        print(self.value, sorted([(self.hour(t),self.name(x)) for x,t in self.tslots.items()]))\n"
   ]
  },
  {
   "cell_type": "code",
   "execution_count": 4,
   "metadata": {},
   "outputs": [
    {
     "name": "stdout",
     "output_type": "stream",
     "text": [
      "Number of Calls: 5\n",
      "34 [('09:30', 'client_1'), ('11:30', 'client_0'), ('13:00', 'client_4'), ('14:30', 'client_3'), ('16:30', 'client_6'), ('18:00', 'base')]\n",
      "with day length = 9.0 hours\n",
      "34 [('09:30', 'client_4'), ('10:30', 'client_1'), ('11:30', 'client_0'), ('14:30', 'client_3'), ('16:30', 'client_6'), ('18:00', 'base')]\n",
      "with day length = 9.0 hours\n",
      "34 [('10:00', 'client_1'), ('11:30', 'client_0'), ('13:00', 'client_4'), ('14:30', 'client_3'), ('16:30', 'client_6'), ('18:00', 'base')]\n",
      "with day length = 9.0 hours\n",
      "34 [('10:30', 'client_1'), ('11:30', 'client_0'), ('13:00', 'client_4'), ('14:30', 'client_3'), ('16:30', 'client_6'), ('18:00', 'base')]\n",
      "with day length = 9.0 hours\n",
      "Number of Calls: 4\n",
      "28 [('09:30', 'client_1'), ('11:30', 'client_0'), ('13:00', 'client_4'), ('14:30', 'client_3'), ('15:30', 'base')]\n",
      "with day length = 6.5 hours\n",
      "28 [('09:30', 'client_4'), ('10:30', 'client_1'), ('11:30', 'client_0'), ('14:30', 'client_3'), ('15:30', 'base')]\n",
      "with day length = 6.5 hours\n",
      "28 [('10:00', 'client_1'), ('11:30', 'client_0'), ('13:00', 'client_4'), ('14:30', 'client_3'), ('15:30', 'base')]\n",
      "with day length = 6.5 hours\n",
      "28 [('10:30', 'client_1'), ('11:30', 'client_0'), ('13:00', 'client_4'), ('14:30', 'client_3'), ('15:30', 'base')]\n",
      "with day length = 6.5 hours\n",
      "Number of Calls: 3\n",
      "20 [('09:30', 'client_1'), ('11:30', 'client_0'), ('14:30', 'client_3'), ('15:30', 'base')]\n",
      "with day length = 6.5 hours\n",
      "20 [('10:00', 'client_1'), ('11:30', 'client_0'), ('14:30', 'client_3'), ('15:30', 'base')]\n",
      "with day length = 6.5 hours\n",
      "20 [('10:30', 'client_1'), ('11:30', 'client_0'), ('14:30', 'client_3'), ('15:30', 'base')]\n",
      "with day length = 6.5 hours\n"
     ]
    }
   ],
   "source": [
    "td = TestData()\n",
    "adj = td.setAdj()\n",
    "best = dict()\n",
    "\n",
    "def dfs(graphgen, tslot, curr, bestvalue, path):\n",
    "    path.add(tslot, curr)\n",
    "    if path.value > bestvalue:\n",
    "        bestvalue = path.value\n",
    "    for t, x in graphgen(tslot+1):\n",
    "        if path.can_add(t,x):\n",
    "            dfs(graphgen, t, x, bestvalue, deepcopy(path))\n",
    "    if path.is_allowed(bestvalue):\n",
    "        if path.sdlen not in best or path.value > best[path.sdlen][0].value:\n",
    "            path.t += path.distance[path.end, -1] + 1\n",
    "            path.add(path.t, -1)\n",
    "            best[path.sdlen] = [path]\n",
    "        elif path.value == best[path.sdlen][0].value:\n",
    "            path.t += path.distance[path.end, -1] + 1\n",
    "            path.add(path.t, -1)\n",
    "            best[path.sdlen].append(path)\n",
    "\n",
    "sd = Sched(**td.params())\n",
    "dfs(adj, -1, -1, 0, sd)\n",
    "\n",
    "for len_, lst in best.items():\n",
    "    print(\"Number of Calls: {}\".format(len_))\n",
    "    idx = np.argsort([sch.t for sch in lst])\n",
    "    for i in idx:\n",
    "        sch = lst[i]\n",
    "        sch.show()\n",
    "        print(\"with day length = {:.1f} hours\".format(sch.t/2))"
   ]
  },
  {
   "cell_type": "code",
   "execution_count": 5,
   "metadata": {},
   "outputs": [
    {
     "data": {
      "text/plain": [
       "array([9, 9, 5, 2, 8, 7, 6])"
      ]
     },
     "execution_count": 5,
     "metadata": {},
     "output_type": "execute_result"
    }
   ],
   "source": [
    "sd.benefit"
   ]
  },
  {
   "cell_type": "code",
   "execution_count": 2,
   "metadata": {},
   "outputs": [
    {
     "data": {
      "text/plain": [
       "7"
      ]
     },
     "execution_count": 2,
     "metadata": {},
     "output_type": "execute_result"
    }
   ],
   "source": [
    "3+2**2"
   ]
  },
  {
   "cell_type": "code",
   "execution_count": null,
   "metadata": {},
   "outputs": [],
   "source": []
  }
 ],
 "metadata": {
  "kernelspec": {
   "display_name": "Python 3 (ipykernel)",
   "language": "python",
   "name": "python3"
  },
  "language_info": {
   "codemirror_mode": {
    "name": "ipython",
    "version": 3
   },
   "file_extension": ".py",
   "mimetype": "text/x-python",
   "name": "python",
   "nbconvert_exporter": "python",
   "pygments_lexer": "ipython3",
   "version": "3.10.5"
  },
  "toc": {
   "base_numbering": 1,
   "nav_menu": {},
   "number_sections": true,
   "sideBar": true,
   "skip_h1_title": false,
   "title_cell": "Table of Contents",
   "title_sidebar": "Contents",
   "toc_cell": false,
   "toc_position": {},
   "toc_section_display": true,
   "toc_window_display": false
  }
 },
 "nbformat": 4,
 "nbformat_minor": 4
}
